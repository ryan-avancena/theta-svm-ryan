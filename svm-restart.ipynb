{
 "cells": [
  {
   "cell_type": "code",
   "execution_count": 62,
   "id": "fb4ee220",
   "metadata": {},
   "outputs": [],
   "source": [
    "# !pip install -r requirements.txt"
   ]
  },
  {
   "cell_type": "code",
   "execution_count": 63,
   "id": "2bdd92d6",
   "metadata": {},
   "outputs": [],
   "source": [
    "import pandas as pd\n",
    "import numpy as np\n",
    "from sklearn.svm import SVR\n",
    "# import joblib\n",
    "from sklearn.model_selection import train_test_split\n",
    "from sklearn.metrics import mean_squared_error, mean_absolute_error, r2_score"
   ]
  },
  {
   "cell_type": "code",
   "execution_count": 64,
   "id": "dd07af4c",
   "metadata": {},
   "outputs": [],
   "source": [
    "peak_hours_path = \"2022-peak-hours-ca - 2022 Peak Hour Report.csv\"\n",
    "traffic_volumes_path = \"2022 AADT DATA - 2022 AADT DATA.csv\"\n",
    "\n",
    "peak_hours_df = pd.read_csv(peak_hours_path)\n",
    "aadt_df = pd.read_csv(traffic_volumes_path)\n",
    "\n",
    "peak_hours_df.rename(columns={\"RTE\": \"ROUTE\", \"CO\": \"COUNTY\"}, inplace=True)"
   ]
  },
  {
   "cell_type": "code",
   "execution_count": 65,
   "id": "b73d4329",
   "metadata": {},
   "outputs": [
    {
     "data": {
      "text/plain": [
       "Index(['DI', 'ROUTE', 'RTE_SFX', 'COUNTY', 'PM_PFX', 'PM', 'PM_SFX', 'CS',\n",
       "       'LEG', 'YR', 'AM_DIR', 'AM_WAY_PHV', 'AM_K_FACTOR_AMT',\n",
       "       'AM_D_FACTOR_AMT', 'AM_KD_FACTOR', 'AM_HOUR', 'AM_DAY', 'AM_MONTH',\n",
       "       'PM_DIR', 'PM_WAY_PHV', 'PM_K_FACTOR_AMT', 'PM_D_FACTOR_AMT',\n",
       "       'PM_KD_FACTOR', 'PM_HOUR', 'PM_DAY', 'PM_MONTH'],\n",
       "      dtype='object')"
      ]
     },
     "execution_count": 65,
     "metadata": {},
     "output_type": "execute_result"
    }
   ],
   "source": [
    "peak_hours_df.columns"
   ]
  },
  {
   "cell_type": "code",
   "execution_count": 66,
   "id": "aa43d957",
   "metadata": {},
   "outputs": [
    {
     "data": {
      "text/html": [
       "<div>\n",
       "<style scoped>\n",
       "    .dataframe tbody tr th:only-of-type {\n",
       "        vertical-align: middle;\n",
       "    }\n",
       "\n",
       "    .dataframe tbody tr th {\n",
       "        vertical-align: top;\n",
       "    }\n",
       "\n",
       "    .dataframe thead th {\n",
       "        text-align: right;\n",
       "    }\n",
       "</style>\n",
       "<table border=\"1\" class=\"dataframe\">\n",
       "  <thead>\n",
       "    <tr style=\"text-align: right;\">\n",
       "      <th></th>\n",
       "      <th>AM_DAY</th>\n",
       "      <th>PM_DAY</th>\n",
       "      <th>ROUTE</th>\n",
       "      <th>COUNTY</th>\n",
       "      <th>AM_HOUR</th>\n",
       "      <th>PM_HOUR</th>\n",
       "      <th>AM_MONTH</th>\n",
       "      <th>PM_MONTH</th>\n",
       "    </tr>\n",
       "  </thead>\n",
       "  <tbody>\n",
       "    <tr>\n",
       "      <th>0</th>\n",
       "      <td>THU</td>\n",
       "      <td>THU</td>\n",
       "      <td>1</td>\n",
       "      <td>ORA</td>\n",
       "      <td>8</td>\n",
       "      <td>16</td>\n",
       "      <td>SEP</td>\n",
       "      <td>SEP</td>\n",
       "    </tr>\n",
       "    <tr>\n",
       "      <th>1</th>\n",
       "      <td>TUE</td>\n",
       "      <td>THU</td>\n",
       "      <td>1</td>\n",
       "      <td>SB</td>\n",
       "      <td>6</td>\n",
       "      <td>16</td>\n",
       "      <td>MAY</td>\n",
       "      <td>JUL</td>\n",
       "    </tr>\n",
       "    <tr>\n",
       "      <th>2</th>\n",
       "      <td>THU</td>\n",
       "      <td>THU</td>\n",
       "      <td>1</td>\n",
       "      <td>SB</td>\n",
       "      <td>6</td>\n",
       "      <td>17</td>\n",
       "      <td>NOV</td>\n",
       "      <td>NOV</td>\n",
       "    </tr>\n",
       "    <tr>\n",
       "      <th>3</th>\n",
       "      <td>SAT</td>\n",
       "      <td>FRI</td>\n",
       "      <td>1</td>\n",
       "      <td>SB</td>\n",
       "      <td>12</td>\n",
       "      <td>15</td>\n",
       "      <td>MAR</td>\n",
       "      <td>JUN</td>\n",
       "    </tr>\n",
       "    <tr>\n",
       "      <th>4</th>\n",
       "      <td>TUE</td>\n",
       "      <td>THU</td>\n",
       "      <td>1</td>\n",
       "      <td>SB</td>\n",
       "      <td>7</td>\n",
       "      <td>17</td>\n",
       "      <td>FEB</td>\n",
       "      <td>FEB</td>\n",
       "    </tr>\n",
       "    <tr>\n",
       "      <th>...</th>\n",
       "      <td>...</td>\n",
       "      <td>...</td>\n",
       "      <td>...</td>\n",
       "      <td>...</td>\n",
       "      <td>...</td>\n",
       "      <td>...</td>\n",
       "      <td>...</td>\n",
       "      <td>...</td>\n",
       "    </tr>\n",
       "    <tr>\n",
       "      <th>1335</th>\n",
       "      <td>TUE</td>\n",
       "      <td>THU</td>\n",
       "      <td>805</td>\n",
       "      <td>SD</td>\n",
       "      <td>8</td>\n",
       "      <td>16</td>\n",
       "      <td>MAY</td>\n",
       "      <td>APR</td>\n",
       "    </tr>\n",
       "    <tr>\n",
       "      <th>1336</th>\n",
       "      <td>FRI</td>\n",
       "      <td>THU</td>\n",
       "      <td>805</td>\n",
       "      <td>SD</td>\n",
       "      <td>11</td>\n",
       "      <td>15</td>\n",
       "      <td>JUN</td>\n",
       "      <td>MAY</td>\n",
       "    </tr>\n",
       "    <tr>\n",
       "      <th>1337</th>\n",
       "      <td>SAT</td>\n",
       "      <td>SAT</td>\n",
       "      <td>880</td>\n",
       "      <td>ALA</td>\n",
       "      <td>10</td>\n",
       "      <td>13</td>\n",
       "      <td>APR</td>\n",
       "      <td>MAY</td>\n",
       "    </tr>\n",
       "    <tr>\n",
       "      <th>1338</th>\n",
       "      <td>WED</td>\n",
       "      <td>FRI</td>\n",
       "      <td>905</td>\n",
       "      <td>SD</td>\n",
       "      <td>7</td>\n",
       "      <td>15</td>\n",
       "      <td>FEB</td>\n",
       "      <td>FEB</td>\n",
       "    </tr>\n",
       "    <tr>\n",
       "      <th>1339</th>\n",
       "      <td>THU</td>\n",
       "      <td>MON</td>\n",
       "      <td>905</td>\n",
       "      <td>SD</td>\n",
       "      <td>7</td>\n",
       "      <td>13</td>\n",
       "      <td>MAR</td>\n",
       "      <td>SEP</td>\n",
       "    </tr>\n",
       "  </tbody>\n",
       "</table>\n",
       "<p>1340 rows × 8 columns</p>\n",
       "</div>"
      ],
      "text/plain": [
       "     AM_DAY PM_DAY  ROUTE COUNTY  AM_HOUR  PM_HOUR AM_MONTH PM_MONTH\n",
       "0       THU    THU      1    ORA        8       16      SEP      SEP\n",
       "1       TUE    THU      1     SB        6       16      MAY      JUL\n",
       "2       THU    THU      1     SB        6       17      NOV      NOV\n",
       "3       SAT    FRI      1     SB       12       15      MAR      JUN\n",
       "4       TUE    THU      1     SB        7       17      FEB      FEB\n",
       "...     ...    ...    ...    ...      ...      ...      ...      ...\n",
       "1335    TUE    THU    805     SD        8       16      MAY      APR\n",
       "1336    FRI    THU    805     SD       11       15      JUN      MAY\n",
       "1337    SAT    SAT    880    ALA       10       13      APR      MAY\n",
       "1338    WED    FRI    905     SD        7       15      FEB      FEB\n",
       "1339    THU    MON    905     SD        7       13      MAR      SEP\n",
       "\n",
       "[1340 rows x 8 columns]"
      ]
     },
     "execution_count": 66,
     "metadata": {},
     "output_type": "execute_result"
    }
   ],
   "source": [
    "peak_hours_df[[\"AM_DAY\",\"PM_DAY\",\"ROUTE\",\"COUNTY\",\"AM_HOUR\",\"PM_HOUR\",\"AM_MONTH\",\"PM_MONTH\"]]"
   ]
  },
  {
   "cell_type": "code",
   "execution_count": 67,
   "id": "07d982a7",
   "metadata": {},
   "outputs": [],
   "source": [
    "# morning_peak_hours_df = \n",
    "morning_peak_hours_df = peak_hours_df[[\"AM_DAY\",\"AM_HOUR\",\"AM_MONTH\",\"AM_DIR\",\"AM_WAY_PHV\"]]\n",
    "afternoon_peak_hours_df = peak_hours_df[[\"PM_DAY\",\"PM_HOUR\",\"PM_MONTH\",\"PM_DIR\",\"PM_WAY_PHV\"]]"
   ]
  },
  {
   "cell_type": "code",
   "execution_count": 68,
   "id": "4eb0f0b7",
   "metadata": {},
   "outputs": [
    {
     "data": {
      "text/html": [
       "<div>\n",
       "<style scoped>\n",
       "    .dataframe tbody tr th:only-of-type {\n",
       "        vertical-align: middle;\n",
       "    }\n",
       "\n",
       "    .dataframe tbody tr th {\n",
       "        vertical-align: top;\n",
       "    }\n",
       "\n",
       "    .dataframe thead th {\n",
       "        text-align: right;\n",
       "    }\n",
       "</style>\n",
       "<table border=\"1\" class=\"dataframe\">\n",
       "  <thead>\n",
       "    <tr style=\"text-align: right;\">\n",
       "      <th></th>\n",
       "      <th>AM_DAY</th>\n",
       "      <th>AM_HOUR</th>\n",
       "      <th>AM_MONTH</th>\n",
       "      <th>AM_DIR</th>\n",
       "      <th>AM_WAY_PHV</th>\n",
       "    </tr>\n",
       "  </thead>\n",
       "  <tbody>\n",
       "    <tr>\n",
       "      <th>0</th>\n",
       "      <td>THU</td>\n",
       "      <td>8</td>\n",
       "      <td>SEP</td>\n",
       "      <td>S</td>\n",
       "      <td>2056</td>\n",
       "    </tr>\n",
       "    <tr>\n",
       "      <th>1</th>\n",
       "      <td>TUE</td>\n",
       "      <td>6</td>\n",
       "      <td>MAY</td>\n",
       "      <td>S</td>\n",
       "      <td>722</td>\n",
       "    </tr>\n",
       "    <tr>\n",
       "      <th>2</th>\n",
       "      <td>THU</td>\n",
       "      <td>6</td>\n",
       "      <td>NOV</td>\n",
       "      <td>S</td>\n",
       "      <td>924</td>\n",
       "    </tr>\n",
       "    <tr>\n",
       "      <th>3</th>\n",
       "      <td>SAT</td>\n",
       "      <td>12</td>\n",
       "      <td>MAR</td>\n",
       "      <td>S</td>\n",
       "      <td>523</td>\n",
       "    </tr>\n",
       "    <tr>\n",
       "      <th>4</th>\n",
       "      <td>TUE</td>\n",
       "      <td>7</td>\n",
       "      <td>FEB</td>\n",
       "      <td>N</td>\n",
       "      <td>1373</td>\n",
       "    </tr>\n",
       "  </tbody>\n",
       "</table>\n",
       "</div>"
      ],
      "text/plain": [
       "  AM_DAY  AM_HOUR AM_MONTH AM_DIR  AM_WAY_PHV\n",
       "0    THU        8      SEP      S        2056\n",
       "1    TUE        6      MAY      S         722\n",
       "2    THU        6      NOV      S         924\n",
       "3    SAT       12      MAR      S         523\n",
       "4    TUE        7      FEB      N        1373"
      ]
     },
     "execution_count": 68,
     "metadata": {},
     "output_type": "execute_result"
    }
   ],
   "source": [
    "morning_peak_hours_df.head()"
   ]
  },
  {
   "cell_type": "code",
   "execution_count": 69,
   "id": "bf61c3e4",
   "metadata": {},
   "outputs": [],
   "source": [
    "direction_map = {'N': 0, 'S': 1, 'E': 2, 'W': 3}\n",
    "\n",
    "day_map = {\n",
    "    'MON': 0, 'TUE': 1, 'WED': 2, 'THU': 3,\n",
    "    'FRI': 4, 'SAT': 5, 'SUN': 6\n",
    "}\n",
    "\n",
    "month_map = {\n",
    "    'JAN': 0, 'FEB': 1, 'MAR': 2, 'APR': 3,\n",
    "    'MAY': 4, 'JUN': 5, 'JUL': 6, 'AUG': 7,\n",
    "    'SEP': 8, 'OCT': 9, 'NOV': 10, 'DEC': 11\n",
    "}\n",
    "\n",
    "# encoding functions\n",
    "def encode_direction(direction):\n",
    "    return direction_map.get(direction.upper(), -1)\n",
    "\n",
    "def encode_day(day):\n",
    "    return day_map.get(day.upper(), -1)\n",
    "\n",
    "def encode_month(month):\n",
    "    return month_map.get(month.upper(), -1)"
   ]
  },
  {
   "cell_type": "code",
   "execution_count": 70,
   "id": "864c70a5",
   "metadata": {},
   "outputs": [],
   "source": [
    "# aadt_df.head()\n",
    "# aadt_df.isnull().sum()\n",
    "# aadt_df.shape\n",
    "\n",
    "# aadt_df.drop(columns=[\"ROUTE_SFX\",\"PM_SFX\",\"PM_PFX\"], inplace=True)\n",
    "# aadt_df.dropna(subset=['AHEAD_PEAK_HOUR','BACK_PEAK_HOUR'],inplace=True)\n",
    "# aadt_df['location_string'] = (\n",
    "#     aadt_df['ROUTE'].astype(str) + ' ' +\n",
    "#     aadt_df['COUNTY'] + ', ' +\n",
    "#     aadt_df['LOCATION DESCRIPTION']\n",
    "# )\n"
   ]
  },
  {
   "cell_type": "code",
   "execution_count": 71,
   "id": "3703ec7c",
   "metadata": {},
   "outputs": [],
   "source": [
    "# aadt_df['DISTRICT'].unique()"
   ]
  },
  {
   "cell_type": "code",
   "execution_count": null,
   "id": "45cca00d",
   "metadata": {},
   "outputs": [],
   "source": []
  },
  {
   "cell_type": "code",
   "execution_count": null,
   "id": "eee6f94c",
   "metadata": {},
   "outputs": [
    {
     "data": {
      "text/plain": [
       "(1820, 14)"
      ]
     },
     "execution_count": 73,
     "metadata": {},
     "output_type": "execute_result"
    }
   ],
   "source": []
  },
  {
   "cell_type": "code",
   "execution_count": 74,
   "id": "2bd5adb6",
   "metadata": {},
   "outputs": [],
   "source": [
    "# from geopy.geocoders import Nominatim\n",
    "# from geopy.extra.rate_limiter import RateLimiter\n",
    "\n",
    "# geolocator = Nominatim(user_agent=\"traffic_mapper\")\n",
    "# geocode = RateLimiter(geolocator.geocode, min_delay_seconds=1)\n",
    "\n",
    "# la_oc_aadt['location'] = la_oc_aadt['location_string'].apply(geocode)\n",
    "# la_oc_aadt['latitude'] = la_oc_aadt['location'].apply(lambda loc: loc.latitude if loc else None)\n",
    "# la_oc_aadt['longitude'] = la_oc_aadt['location'].apply(lambda loc: loc.longitude if loc else None)"
   ]
  },
  {
   "cell_type": "code",
   "execution_count": 77,
   "id": "fd316e33",
   "metadata": {},
   "outputs": [
    {
     "data": {
      "text/html": [
       "<div>\n",
       "<style scoped>\n",
       "    .dataframe tbody tr th:only-of-type {\n",
       "        vertical-align: middle;\n",
       "    }\n",
       "\n",
       "    .dataframe tbody tr th {\n",
       "        vertical-align: top;\n",
       "    }\n",
       "\n",
       "    .dataframe thead th {\n",
       "        text-align: right;\n",
       "    }\n",
       "</style>\n",
       "<table border=\"1\" class=\"dataframe\">\n",
       "  <thead>\n",
       "    <tr style=\"text-align: right;\">\n",
       "      <th></th>\n",
       "      <th>AM_DAY</th>\n",
       "      <th>AM_HOUR</th>\n",
       "      <th>AM_MONTH</th>\n",
       "      <th>AM_DIR</th>\n",
       "      <th>AM_WAY_PHV</th>\n",
       "    </tr>\n",
       "  </thead>\n",
       "  <tbody>\n",
       "    <tr>\n",
       "      <th>0</th>\n",
       "      <td>THU</td>\n",
       "      <td>8</td>\n",
       "      <td>SEP</td>\n",
       "      <td>S</td>\n",
       "      <td>2056</td>\n",
       "    </tr>\n",
       "    <tr>\n",
       "      <th>1</th>\n",
       "      <td>TUE</td>\n",
       "      <td>6</td>\n",
       "      <td>MAY</td>\n",
       "      <td>S</td>\n",
       "      <td>722</td>\n",
       "    </tr>\n",
       "    <tr>\n",
       "      <th>2</th>\n",
       "      <td>THU</td>\n",
       "      <td>6</td>\n",
       "      <td>NOV</td>\n",
       "      <td>S</td>\n",
       "      <td>924</td>\n",
       "    </tr>\n",
       "    <tr>\n",
       "      <th>3</th>\n",
       "      <td>SAT</td>\n",
       "      <td>12</td>\n",
       "      <td>MAR</td>\n",
       "      <td>S</td>\n",
       "      <td>523</td>\n",
       "    </tr>\n",
       "    <tr>\n",
       "      <th>4</th>\n",
       "      <td>TUE</td>\n",
       "      <td>7</td>\n",
       "      <td>FEB</td>\n",
       "      <td>N</td>\n",
       "      <td>1373</td>\n",
       "    </tr>\n",
       "  </tbody>\n",
       "</table>\n",
       "</div>"
      ],
      "text/plain": [
       "  AM_DAY  AM_HOUR AM_MONTH AM_DIR  AM_WAY_PHV\n",
       "0    THU        8      SEP      S        2056\n",
       "1    TUE        6      MAY      S         722\n",
       "2    THU        6      NOV      S         924\n",
       "3    SAT       12      MAR      S         523\n",
       "4    TUE        7      FEB      N        1373"
      ]
     },
     "execution_count": 77,
     "metadata": {},
     "output_type": "execute_result"
    }
   ],
   "source": [
    "morning_peak_hours_df.head()"
   ]
  },
  {
   "cell_type": "code",
   "execution_count": null,
   "id": "023fc98a",
   "metadata": {},
   "outputs": [
    {
     "name": "stdout",
     "output_type": "stream",
     "text": [
      "Prepared 1340 examples.\n",
      "SVM R² score on test set: -0.265\n"
     ]
    }
   ],
   "source": [
    "from sklearn.svm import SVR\n",
    "from sklearn.model_selection import train_test_split\n",
    "from sklearn.preprocessing import StandardScaler\n",
    "import numpy as np\n",
    "import pandas as pd\n",
    "\n",
    "# Prepare examples\n",
    "examples = []\n",
    "for _, row in morning_peak_hours_df.iterrows():\n",
    "    am_direction = row.get(\"AM_DIR\")\n",
    "    am_hour = row.get(\"AM_HOUR\")\n",
    "    am_day = row.get(\"AM_DAY\")\n",
    "    am_way_phv = row.get(\"AM_WAY_PHV\")\n",
    "    am_month = row.get(\"AM_MONTH\")\n",
    "\n",
    "    # Skip rows with missing critical data\n",
    "    if any(pd.isna(x) for x in [am_direction, am_hour, am_day, am_way_phv, am_month]):\n",
    "        continue\n",
    "\n",
    "    examples.append({\n",
    "        \"AM_HOUR\": int(am_hour),\n",
    "        \"AM_DIRECTION\": encode_direction(am_direction),\n",
    "        \"AM_DAY\": encode_day(am_day),\n",
    "        \"AM_MONTH\": encode_month(am_month),\n",
    "        \"AM_WAY_PHV\": float(am_way_phv)\n",
    "    })\n",
    "\n",
    "print(f\"Prepared {len(examples)} examples.\")\n",
    "\n",
    "# Prepare features and target\n",
    "X = []\n",
    "y = []\n",
    "\n",
    "for ex in examples:\n",
    "    X.append([\n",
    "        ex[\"AM_DIRECTION\"],\n",
    "        ex[\"AM_DAY\"],\n",
    "        ex[\"AM_MONTH\"],\n",
    "        ex[\"AM_HOUR\"]\n",
    "    ])\n",
    "    y.append(ex[\"AM_WAY_PHV\"])  # or normalized PHV multiplier if preferred\n",
    "\n",
    "X = np.array(X)\n",
    "y = np.array(y)\n",
    "\n",
    "# Normalize features\n",
    "# scaler = StandardScaler()\n",
    "# X_scaled = scaler.fit_transform(X)\n",
    "\n",
    "# Train/test split\n",
    "X_train, X_test, y_train, y_test = train_test_split(X, y, test_size=0.2, random_state=42)\n",
    "\n",
    "# Train SVM Regressor\n",
    "svm = SVR(kernel='rbf', C=1.0, epsilon=0.1)\n",
    "svm.fit(X_train, y_train)\n",
    "\n",
    "# Evaluate\n",
    "score = svm.score(X_test, y_test)\n",
    "print(f\"SVM R² score on test set: {score:.3f}\")\n"
   ]
  },
  {
   "cell_type": "code",
   "execution_count": 79,
   "id": "97712a3d",
   "metadata": {},
   "outputs": [
    {
     "name": "stdout",
     "output_type": "stream",
     "text": [
      "-0.26481306078949696\n"
     ]
    }
   ],
   "source": [
    "print(score)"
   ]
  },
  {
   "cell_type": "markdown",
   "id": "0c0c290f",
   "metadata": {},
   "source": [
    "## Understanding the AADT Columns\n",
    "\n",
    "AHEAD means North of a location.\n",
    "BACK means South of a location. \n",
    "\n",
    "These are usually the same because the cars to a location are the same cars coming back from a location. \n",
    "\n",
    "- Back Peak Hour - is the estimated volume of traffic going south of a location during RUSH HOUR\n",
    "- Back Peak MADT - is the estimated MONTHLY volume of traffic going south of a location during RUSH HOUR\n",
    "- Back Peak AADT - is the estimated ANNUAL volume of traffic going south of a location during RUSH HOUR"
   ]
  },
  {
   "cell_type": "code",
   "execution_count": 76,
   "id": "5a59f623",
   "metadata": {},
   "outputs": [
    {
     "data": {
      "text/plain": [
       "Index(['DISTRICT', 'ROUTE', 'ROUTE_SFX', 'COUNTY', 'PM_PFX', 'PM', 'PM_SFX',\n",
       "       'LOCATION DESCRIPTION', 'BACK_PEAK_HOUR', 'BACK_PEAK_MADT', 'BACK_AADT',\n",
       "       'AHEAD_PEAK_HOUR', 'AHEAD_PEAK_MADT', 'AHEAD_AADT'],\n",
       "      dtype='object')"
      ]
     },
     "execution_count": 76,
     "metadata": {},
     "output_type": "execute_result"
    }
   ],
   "source": [
    "la_oc_aadt.columns"
   ]
  }
 ],
 "metadata": {
  "kernelspec": {
   "display_name": "venv",
   "language": "python",
   "name": "python3"
  },
  "language_info": {
   "codemirror_mode": {
    "name": "ipython",
    "version": 3
   },
   "file_extension": ".py",
   "mimetype": "text/x-python",
   "name": "python",
   "nbconvert_exporter": "python",
   "pygments_lexer": "ipython3",
   "version": "3.11.9"
  }
 },
 "nbformat": 4,
 "nbformat_minor": 5
}
