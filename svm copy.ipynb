{
 "cells": [
  {
   "cell_type": "code",
   "execution_count": null,
   "metadata": {},
   "outputs": [],
   "source": [
    "import pandas as pd\n",
    "import numpy as np\n",
    "from sklearn.svm import SVR\n",
    "# import joblib\n",
    "from sklearn.model_selection import train_test_split\n",
    "from sklearn.metrics import mean_squared_error, mean_absolute_error, r2_score\n",
    "import matplotlib.pyplot as plt\n",
    "import seaborn as sns"
   ]
  },
  {
   "cell_type": "code",
   "execution_count": 2,
   "metadata": {},
   "outputs": [
    {
     "name": "stdout",
     "output_type": "stream",
     "text": [
      "Merged 1084 rows from Caltrans data.\n"
     ]
    }
   ],
   "source": [
    "peak_hours_path = \"2022-peak-hours-ca - 2022 Peak Hour Report.csv\"\n",
    "traffic_volumes_path = \"2022 AADT DATA - 2022 AADT DATA.csv\"\n",
    "\n",
    "peak_hours_df = pd.read_csv(peak_hours_path)\n",
    "traffic_volumes_df = pd.read_csv(traffic_volumes_path)\n",
    "\n",
    "peak_hours_df.rename(columns={\"RTE\": \"ROUTE\", \"CO\": \"COUNTY\"}, inplace=True)\n",
    "\n",
    "\"\"\" merging the dataframes \"\"\"\n",
    "\n",
    "merged_df = pd.merge(\n",
    "    traffic_volumes_df,\n",
    "    peak_hours_df,\n",
    "    on=[\"ROUTE\", \"COUNTY\", \"PM\"],\n",
    "    how=\"inner\"\n",
    ")\n",
    "\n",
    "print(f\"Merged {len(merged_df)} rows from Caltrans data.\")"
   ]
  },
  {
   "cell_type": "code",
   "execution_count": 3,
   "metadata": {},
   "outputs": [
    {
     "name": "stdout",
     "output_type": "stream",
     "text": [
      "Index(['DISTRICT', 'ROUTE', 'ROUTE_SFX', 'COUNTY', 'PM_PFX_x', 'PM',\n",
      "       'PM_SFX_x', 'LOCATION DESCRIPTION', 'BACK_PEAK_HOUR', 'BACK_PEAK_MADT',\n",
      "       'BACK_AADT', 'AHEAD_PEAK_HOUR', 'AHEAD_PEAK_MADT', 'AHEAD_AADT', 'DI',\n",
      "       'RTE_SFX', 'PM_PFX_y', 'PM_SFX_y', 'CS', 'LEG', 'YR', 'AM_DIR',\n",
      "       'AM_WAY_PHV', 'AM_K_FACTOR_AMT', 'AM_D_FACTOR_AMT', 'AM_KD_FACTOR',\n",
      "       'AM_HOUR', 'AM_DAY', 'AM_MONTH', 'PM_DIR', 'PM_WAY_PHV',\n",
      "       'PM_K_FACTOR_AMT', 'PM_D_FACTOR_AMT', 'PM_KD_FACTOR', 'PM_HOUR',\n",
      "       'PM_DAY', 'PM_MONTH'],\n",
      "      dtype='object')\n"
     ]
    },
    {
     "data": {
      "text/html": [
       "<div>\n",
       "<style scoped>\n",
       "    .dataframe tbody tr th:only-of-type {\n",
       "        vertical-align: middle;\n",
       "    }\n",
       "\n",
       "    .dataframe tbody tr th {\n",
       "        vertical-align: top;\n",
       "    }\n",
       "\n",
       "    .dataframe thead th {\n",
       "        text-align: right;\n",
       "    }\n",
       "</style>\n",
       "<table border=\"1\" class=\"dataframe\">\n",
       "  <thead>\n",
       "    <tr style=\"text-align: right;\">\n",
       "      <th></th>\n",
       "      <th>AM_DAY</th>\n",
       "      <th>PM_DAY</th>\n",
       "      <th>DISTRICT</th>\n",
       "      <th>ROUTE</th>\n",
       "      <th>COUNTY</th>\n",
       "    </tr>\n",
       "  </thead>\n",
       "  <tbody>\n",
       "    <tr>\n",
       "      <th>0</th>\n",
       "      <td>TUE</td>\n",
       "      <td>THU</td>\n",
       "      <td>5</td>\n",
       "      <td>1</td>\n",
       "      <td>SB</td>\n",
       "    </tr>\n",
       "    <tr>\n",
       "      <th>1</th>\n",
       "      <td>THU</td>\n",
       "      <td>THU</td>\n",
       "      <td>5</td>\n",
       "      <td>1</td>\n",
       "      <td>SB</td>\n",
       "    </tr>\n",
       "    <tr>\n",
       "      <th>2</th>\n",
       "      <td>SAT</td>\n",
       "      <td>FRI</td>\n",
       "      <td>5</td>\n",
       "      <td>1</td>\n",
       "      <td>SB</td>\n",
       "    </tr>\n",
       "    <tr>\n",
       "      <th>3</th>\n",
       "      <td>TUE</td>\n",
       "      <td>THU</td>\n",
       "      <td>5</td>\n",
       "      <td>1</td>\n",
       "      <td>SB</td>\n",
       "    </tr>\n",
       "    <tr>\n",
       "      <th>4</th>\n",
       "      <td>MON</td>\n",
       "      <td>WED</td>\n",
       "      <td>5</td>\n",
       "      <td>1</td>\n",
       "      <td>SB</td>\n",
       "    </tr>\n",
       "    <tr>\n",
       "      <th>...</th>\n",
       "      <td>...</td>\n",
       "      <td>...</td>\n",
       "      <td>...</td>\n",
       "      <td>...</td>\n",
       "      <td>...</td>\n",
       "    </tr>\n",
       "    <tr>\n",
       "      <th>1079</th>\n",
       "      <td>TUE</td>\n",
       "      <td>TUE</td>\n",
       "      <td>11</td>\n",
       "      <td>805</td>\n",
       "      <td>SD</td>\n",
       "    </tr>\n",
       "    <tr>\n",
       "      <th>1080</th>\n",
       "      <td>TUE</td>\n",
       "      <td>THU</td>\n",
       "      <td>11</td>\n",
       "      <td>805</td>\n",
       "      <td>SD</td>\n",
       "    </tr>\n",
       "    <tr>\n",
       "      <th>1081</th>\n",
       "      <td>SAT</td>\n",
       "      <td>SAT</td>\n",
       "      <td>4</td>\n",
       "      <td>880</td>\n",
       "      <td>ALA</td>\n",
       "    </tr>\n",
       "    <tr>\n",
       "      <th>1082</th>\n",
       "      <td>WED</td>\n",
       "      <td>FRI</td>\n",
       "      <td>11</td>\n",
       "      <td>905</td>\n",
       "      <td>SD</td>\n",
       "    </tr>\n",
       "    <tr>\n",
       "      <th>1083</th>\n",
       "      <td>THU</td>\n",
       "      <td>MON</td>\n",
       "      <td>11</td>\n",
       "      <td>905</td>\n",
       "      <td>SD</td>\n",
       "    </tr>\n",
       "  </tbody>\n",
       "</table>\n",
       "<p>1084 rows × 5 columns</p>\n",
       "</div>"
      ],
      "text/plain": [
       "     AM_DAY PM_DAY  DISTRICT  ROUTE COUNTY\n",
       "0       TUE    THU         5      1     SB\n",
       "1       THU    THU         5      1     SB\n",
       "2       SAT    FRI         5      1     SB\n",
       "3       TUE    THU         5      1     SB\n",
       "4       MON    WED         5      1     SB\n",
       "...     ...    ...       ...    ...    ...\n",
       "1079    TUE    TUE        11    805     SD\n",
       "1080    TUE    THU        11    805     SD\n",
       "1081    SAT    SAT         4    880    ALA\n",
       "1082    WED    FRI        11    905     SD\n",
       "1083    THU    MON        11    905     SD\n",
       "\n",
       "[1084 rows x 5 columns]"
      ]
     },
     "execution_count": 3,
     "metadata": {},
     "output_type": "execute_result"
    }
   ],
   "source": [
    "print(merged_df.columns)\n",
    "\n",
    "merged_df[[\"AM_DAY\",\"PM_DAY\",\"DISTRICT\",\"ROUTE\",\"COUNTY\"]]"
   ]
  },
  {
   "cell_type": "markdown",
   "metadata": {},
   "source": [
    "important columns are \n",
    "- ROUTE\n",
    "- COUNTY\n",
    "- DAY : day of the week\n",
    "- PHV : peak hour volume\n",
    "- AM_DIR : direction of travel for peak volume in morning\n",
    "- PM_DIR : direction of travel for peak volume in at night\n",
    "- AADT : annual average daily traffic in vehicles per day\n",
    "\n",
    "- \n",
    "- PM_HOUR : post-mile hour\n"
   ]
  },
  {
   "cell_type": "code",
   "execution_count": 4,
   "metadata": {},
   "outputs": [
    {
     "data": {
      "text/html": [
       "<div>\n",
       "<style scoped>\n",
       "    .dataframe tbody tr th:only-of-type {\n",
       "        vertical-align: middle;\n",
       "    }\n",
       "\n",
       "    .dataframe tbody tr th {\n",
       "        vertical-align: top;\n",
       "    }\n",
       "\n",
       "    .dataframe thead th {\n",
       "        text-align: right;\n",
       "    }\n",
       "</style>\n",
       "<table border=\"1\" class=\"dataframe\">\n",
       "  <thead>\n",
       "    <tr style=\"text-align: right;\">\n",
       "      <th></th>\n",
       "      <th>BACK_PEAK_HOUR</th>\n",
       "      <th>AHEAD_PEAK_HOUR</th>\n",
       "      <th>PM_HOUR</th>\n",
       "      <th>AM_HOUR</th>\n",
       "    </tr>\n",
       "  </thead>\n",
       "  <tbody>\n",
       "    <tr>\n",
       "      <th>0</th>\n",
       "      <td>NaN</td>\n",
       "      <td>860.0</td>\n",
       "      <td>16</td>\n",
       "      <td>6</td>\n",
       "    </tr>\n",
       "    <tr>\n",
       "      <th>1</th>\n",
       "      <td>900.0</td>\n",
       "      <td>1400.0</td>\n",
       "      <td>17</td>\n",
       "      <td>6</td>\n",
       "    </tr>\n",
       "    <tr>\n",
       "      <th>2</th>\n",
       "      <td>1700.0</td>\n",
       "      <td>1000.0</td>\n",
       "      <td>15</td>\n",
       "      <td>12</td>\n",
       "    </tr>\n",
       "    <tr>\n",
       "      <th>3</th>\n",
       "      <td>2700.0</td>\n",
       "      <td>2700.0</td>\n",
       "      <td>17</td>\n",
       "      <td>7</td>\n",
       "    </tr>\n",
       "    <tr>\n",
       "      <th>4</th>\n",
       "      <td>2700.0</td>\n",
       "      <td>2000.0</td>\n",
       "      <td>17</td>\n",
       "      <td>7</td>\n",
       "    </tr>\n",
       "    <tr>\n",
       "      <th>...</th>\n",
       "      <td>...</td>\n",
       "      <td>...</td>\n",
       "      <td>...</td>\n",
       "      <td>...</td>\n",
       "    </tr>\n",
       "    <tr>\n",
       "      <th>1079</th>\n",
       "      <td>14500.0</td>\n",
       "      <td>14200.0</td>\n",
       "      <td>14</td>\n",
       "      <td>6</td>\n",
       "    </tr>\n",
       "    <tr>\n",
       "      <th>1080</th>\n",
       "      <td>9600.0</td>\n",
       "      <td>NaN</td>\n",
       "      <td>16</td>\n",
       "      <td>8</td>\n",
       "    </tr>\n",
       "    <tr>\n",
       "      <th>1081</th>\n",
       "      <td>13500.0</td>\n",
       "      <td>14600.0</td>\n",
       "      <td>13</td>\n",
       "      <td>10</td>\n",
       "    </tr>\n",
       "    <tr>\n",
       "      <th>1082</th>\n",
       "      <td>870.0</td>\n",
       "      <td>2950.0</td>\n",
       "      <td>15</td>\n",
       "      <td>7</td>\n",
       "    </tr>\n",
       "    <tr>\n",
       "      <th>1083</th>\n",
       "      <td>8200.0</td>\n",
       "      <td>5300.0</td>\n",
       "      <td>13</td>\n",
       "      <td>7</td>\n",
       "    </tr>\n",
       "  </tbody>\n",
       "</table>\n",
       "<p>1084 rows × 4 columns</p>\n",
       "</div>"
      ],
      "text/plain": [
       "      BACK_PEAK_HOUR  AHEAD_PEAK_HOUR  PM_HOUR  AM_HOUR\n",
       "0                NaN            860.0       16        6\n",
       "1              900.0           1400.0       17        6\n",
       "2             1700.0           1000.0       15       12\n",
       "3             2700.0           2700.0       17        7\n",
       "4             2700.0           2000.0       17        7\n",
       "...              ...              ...      ...      ...\n",
       "1079         14500.0          14200.0       14        6\n",
       "1080          9600.0              NaN       16        8\n",
       "1081         13500.0          14600.0       13       10\n",
       "1082           870.0           2950.0       15        7\n",
       "1083          8200.0           5300.0       13        7\n",
       "\n",
       "[1084 rows x 4 columns]"
      ]
     },
     "execution_count": 4,
     "metadata": {},
     "output_type": "execute_result"
    }
   ],
   "source": [
    "merged_df[[\"BACK_PEAK_HOUR\",\"AHEAD_PEAK_HOUR\", \"PM_HOUR\",\"AM_HOUR\"]]  # usually the opposite or also the same"
   ]
  },
  {
   "cell_type": "code",
   "execution_count": 5,
   "metadata": {},
   "outputs": [],
   "source": [
    "# merged_df.head()\n",
    "# merged_df.columns"
   ]
  },
  {
   "cell_type": "code",
   "execution_count": 6,
   "metadata": {},
   "outputs": [
    {
     "name": "stderr",
     "output_type": "stream",
     "text": [
      "/var/folders/y0/tql4kxn91m51l1_d96hty_z40000gn/T/ipykernel_9562/837827291.py:1: FutureWarning: Downcasting behavior in `replace` is deprecated and will be removed in a future version. To retain the old behavior, explicitly call `result.infer_objects(copy=False)`. To opt-in to the future behavior, set `pd.set_option('future.no_silent_downcasting', True)`\n",
      "  merged_df.replace({\n",
      "/var/folders/y0/tql4kxn91m51l1_d96hty_z40000gn/T/ipykernel_9562/837827291.py:7: FutureWarning: Downcasting behavior in `replace` is deprecated and will be removed in a future version. To retain the old behavior, explicitly call `result.infer_objects(copy=False)`. To opt-in to the future behavior, set `pd.set_option('future.no_silent_downcasting', True)`\n",
      "  merged_df.replace({\n",
      "/var/folders/y0/tql4kxn91m51l1_d96hty_z40000gn/T/ipykernel_9562/837827291.py:12: FutureWarning: Downcasting behavior in `replace` is deprecated and will be removed in a future version. To retain the old behavior, explicitly call `result.infer_objects(copy=False)`. To opt-in to the future behavior, set `pd.set_option('future.no_silent_downcasting', True)`\n",
      "  merged_df.replace({'N': 0, 'S': 1, 'E': 2, 'W': 3}, inplace=True)\n"
     ]
    }
   ],
   "source": [
    "merged_df.replace({\n",
    "    'JAN': 0, 'FEB': 1, 'MAR': 2, 'APR': 3,\n",
    "    'MAY': 4, 'JUN': 5, 'JUL': 6, 'AUG': 7,\n",
    "    'SEP': 8, 'OCT': 9, 'NOV': 10, 'DEC': 11\n",
    "}, inplace=True)\n",
    "\n",
    "merged_df.replace({\n",
    "    'MON': 0, 'TUE': 1, 'WED': 2, 'THU': 3,\n",
    "    'FRI': 4, 'SAT': 5, 'SUN': 6\n",
    "}, inplace=True)\n",
    "\n",
    "merged_df.replace({'N': 0, 'S': 1, 'E': 2, 'W': 3}, inplace=True)"
   ]
  },
  {
   "cell_type": "markdown",
   "metadata": {},
   "source": [
    "## Understanding the AADT Columns\n",
    "\n",
    "AHEAD means North of a location.\n",
    "BACK means South of a location. \n",
    "\n",
    "These are usually the same because the cars to a location are the same cars coming back from a location. \n",
    "\n",
    "- Back Peak Hour - is the estimated volume of traffic going south of a location during RUSH HOUR\n",
    "- Back Peak MADT - is the estimated MONTHLY volume of traffic going south of a location during RUSH HOUR\n",
    "- Back Peak AADT - is the estimated ANNUAL volume of traffic going south of a location during RUSH HOUR"
   ]
  },
  {
   "cell_type": "code",
   "execution_count": 7,
   "metadata": {},
   "outputs": [
    {
     "name": "stdout",
     "output_type": "stream",
     "text": [
      "Prepared 907 morning and 907 night examples.\n",
      "SVM R² score: 0.875\n",
      "SVM MAE: 0.063\n",
      "SVM RMSE: 0.084\n"
     ]
    },
    {
     "ename": "NameError",
     "evalue": "name 'sns' is not defined",
     "output_type": "error",
     "traceback": [
      "\u001b[31m---------------------------------------------------------------------------\u001b[39m",
      "\u001b[31mNameError\u001b[39m                                 Traceback (most recent call last)",
      "\u001b[36mCell\u001b[39m\u001b[36m \u001b[39m\u001b[32mIn[7]\u001b[39m\u001b[32m, line 148\u001b[39m\n\u001b[32m    145\u001b[39m     \u001b[38;5;28;01mreturn\u001b[39;00m model, scaler\n\u001b[32m    147\u001b[39m \u001b[38;5;66;03m# --- Train both models\u001b[39;00m\n\u001b[32m--> \u001b[39m\u001b[32m148\u001b[39m morning_svm, morning_scaler = \u001b[43mtrain_svm\u001b[49m\u001b[43m(\u001b[49m\u001b[43mX_morning\u001b[49m\u001b[43m,\u001b[49m\u001b[43m \u001b[49m\u001b[43my_morning\u001b[49m\u001b[43m)\u001b[49m\n\u001b[32m    149\u001b[39m night_svm, night_scaler = train_svm(X_night, y_night)\n",
      "\u001b[36mCell\u001b[39m\u001b[36m \u001b[39m\u001b[32mIn[7]\u001b[39m\u001b[32m, line 111\u001b[39m, in \u001b[36mtrain_svm\u001b[39m\u001b[34m(X, y)\u001b[39m\n\u001b[32m    109\u001b[39m \u001b[38;5;66;03m# --- 1. Predicted vs Actual ---\u001b[39;00m\n\u001b[32m    110\u001b[39m plt.figure(figsize=(\u001b[32m6\u001b[39m, \u001b[32m6\u001b[39m))\n\u001b[32m--> \u001b[39m\u001b[32m111\u001b[39m \u001b[43msns\u001b[49m.scatterplot(x=y_test, y=y_pred)\n\u001b[32m    112\u001b[39m plt.plot([\u001b[38;5;28mmin\u001b[39m(y_test), \u001b[38;5;28mmax\u001b[39m(y_test)], [\u001b[38;5;28mmin\u001b[39m(y_test), \u001b[38;5;28mmax\u001b[39m(y_test)], \u001b[33m'\u001b[39m\u001b[33mr--\u001b[39m\u001b[33m'\u001b[39m)\n\u001b[32m    113\u001b[39m plt.xlabel(\u001b[33m\"\u001b[39m\u001b[33mActual Multiplier\u001b[39m\u001b[33m\"\u001b[39m)\n",
      "\u001b[31mNameError\u001b[39m: name 'sns' is not defined"
     ]
    },
    {
     "data": {
      "text/plain": [
       "<Figure size 600x600 with 0 Axes>"
      ]
     },
     "metadata": {},
     "output_type": "display_data"
    }
   ],
   "source": [
    "from sklearn.svm import SVR\n",
    "from sklearn.model_selection import train_test_split\n",
    "from sklearn.preprocessing import StandardScaler\n",
    "import numpy as np\n",
    "import pandas as pd\n",
    "\n",
    "# --- Simulated multiplier function (adjust if needed)\n",
    "def calculate_multiplier(back_peak_hour, ahead_peak_hour, back_aadt, ahead_aadt, am_hour=None, pm_hour=None):\n",
    "    base_multiplier = 1.0\n",
    "\n",
    "    # Peak Hour Boost\n",
    "    if pm_hour is not None and (abs(pm_hour - back_peak_hour) <= 1 or abs(pm_hour - ahead_peak_hour) <= 1):\n",
    "        base_multiplier += 0.6\n",
    "\n",
    "    # Morning boost\n",
    "    if am_hour is not None and 7 <= am_hour <= 9:\n",
    "        base_multiplier += 0.3\n",
    "\n",
    "    # Night reduction\n",
    "    if pm_hour is not None and (pm_hour >= 23 or pm_hour <= 5):\n",
    "        base_multiplier -= 0.3\n",
    "\n",
    "    # Midday moderate boost\n",
    "    if pm_hour is not None and 11 <= pm_hour <= 13:\n",
    "        base_multiplier += 0.2\n",
    "\n",
    "    # AADT scaling\n",
    "    avg_aadt = (back_aadt + ahead_aadt) / 2\n",
    "    base_multiplier += avg_aadt / 400000\n",
    "\n",
    "    # Add small noise\n",
    "    return max(base_multiplier + np.random.normal(0, 0.05), 1.0)\n",
    "\n",
    "# --- Encode functions\n",
    "def encode_month(month):\n",
    "    return int(month) if pd.notna(month) else 0\n",
    "\n",
    "def encode_day(day):\n",
    "    return int(day) if pd.notna(day) else 0\n",
    "\n",
    "X_morning, y_morning = [], []\n",
    "X_night, y_night = [], []\n",
    "\n",
    "for i, row in merged_df.iterrows():\n",
    "    try:\n",
    "        # Safe parsing\n",
    "        am_month = encode_month(row.get(\"AM_MONTH\"))\n",
    "        am_day = encode_day(row.get(\"AM_DAY\"))\n",
    "        am_hour = row.get(\"AM_HOUR\")\n",
    "        pm_month = encode_month(row.get(\"PM_MONTH\"))\n",
    "        pm_day = encode_day(row.get(\"PM_DAY\"))\n",
    "        pm_hour = row.get(\"PM_HOUR\")\n",
    "        back_aadt = row.get(\"BACK_AADT\")\n",
    "        ahead_aadt = row.get(\"AHEAD_AADT\")\n",
    "        back_peak = row.get(\"BACK_PEAK_HOUR\")\n",
    "        ahead_peak = row.get(\"AHEAD_PEAK_HOUR\")\n",
    "\n",
    "        # Check required fields\n",
    "        if any(pd.isna(v) for v in [am_hour, pm_hour, back_aadt, ahead_aadt, back_peak, ahead_peak]):\n",
    "            continue\n",
    "\n",
    "        # Convert to int/float safely\n",
    "        am_hour = int(am_hour)\n",
    "        pm_hour = int(pm_hour)\n",
    "        back_aadt = float(back_aadt)\n",
    "        ahead_aadt = float(ahead_aadt)\n",
    "        back_peak = int(back_peak)\n",
    "        ahead_peak = int(ahead_peak)\n",
    "\n",
    "        # Append to morning\n",
    "        X_morning.append([am_month, am_day, am_hour, back_aadt, ahead_aadt])\n",
    "        y_morning.append(calculate_multiplier(back_peak, ahead_peak, back_aadt, ahead_aadt, am_hour=am_hour))\n",
    "\n",
    "        # Append to night\n",
    "        X_night.append([pm_month, pm_day, pm_hour, back_aadt, ahead_aadt])\n",
    "        y_night.append(calculate_multiplier(back_peak, ahead_peak, back_aadt, ahead_aadt, pm_hour=pm_hour))\n",
    "\n",
    "    except Exception as e:\n",
    "        print(f\"Row {i} skipped due to error: {e}\")\n",
    "        continue\n",
    "\n",
    "print(f\"Prepared {len(X_morning)} morning and {len(X_night)} night examples.\")\n",
    "\n",
    "\n",
    "# --- SVM training helper\n",
    "def train_svm(X, y):\n",
    "    X = np.array(X)\n",
    "    y = np.array(y)\n",
    "\n",
    "    scaler = StandardScaler()\n",
    "    X_scaled = scaler.fit_transform(X)\n",
    "\n",
    "    X_train, X_test, y_train, y_test = train_test_split(X_scaled, y, test_size=0.2, random_state=42)\n",
    "\n",
    "    model = SVR(kernel='rbf', C=1.0, epsilon=0.1)\n",
    "    model.fit(X_train, y_train)\n",
    "\n",
    "    y_pred = model.predict(X_test)\n",
    "\n",
    "    score = model.score(X_test, y_test)\n",
    "    # r2 = r2_score(y_test, y_train)\n",
    "    mae = mean_absolute_error(y_test, y_pred)\n",
    "    mse = mean_squared_error(y_test, y_pred)\n",
    "    rmse = np.sqrt(mse)\n",
    "    print(f\"SVM R² score: {score:.3f}\")\n",
    "    print(f\"SVM MAE: {mae:.3f}\")\n",
    "    print(f\"SVM RMSE: {rmse:.3f}\")\n",
    "\n",
    "    # --- 1. Predicted vs Actual ---\n",
    "    plt.figure(figsize=(6, 6))\n",
    "    sns.scatterplot(x=y_test, y=y_pred)\n",
    "    plt.plot([min(y_test), max(y_test)], [min(y_test), max(y_test)], 'r--')\n",
    "    plt.xlabel(\"Actual Multiplier\")\n",
    "    plt.ylabel(\"Predicted Multiplier\")\n",
    "    plt.title(\"Actual vs Predicted\")\n",
    "    plt.grid(True)\n",
    "    plt.tight_layout()\n",
    "    plt.show()\n",
    "\n",
    "    # --- 2. Residual Plot ---\n",
    "    residuals = y_test - y_pred\n",
    "    plt.figure(figsize=(6, 4))\n",
    "    sns.histplot(residuals, kde=True, bins=30)\n",
    "    plt.xlabel(\"Prediction Error (Residual)\")\n",
    "    plt.title(\"Distribution of Residuals\")\n",
    "    plt.grid(True)\n",
    "    plt.tight_layout()\n",
    "    plt.show()\n",
    "\n",
    "    # --- 3. Feature Importance (if names provided) ---\n",
    "    if feature_names is not None:\n",
    "        results = permutation_importance(model, X_test, y_test, n_repeats=10, random_state=42)\n",
    "        importance = results.importances_mean\n",
    "        sorted_idx = importance.argsort()[::-1]\n",
    "\n",
    "        plt.figure(figsize=(8, 5))\n",
    "        sns.barplot(x=importance[sorted_idx], y=np.array(feature_names)[sorted_idx])\n",
    "        plt.title(\"Feature Importance (Permutation)\")\n",
    "        plt.xlabel(\"Importance\")\n",
    "        plt.tight_layout()\n",
    "        plt.show()\n",
    "\n",
    "    return model, scaler\n",
    "\n",
    "    return model, scaler\n",
    "\n",
    "# --- Train both models\n",
    "morning_svm, morning_scaler = train_svm(X_morning, y_morning)\n",
    "night_svm, night_scaler = train_svm(X_night, y_night)\n"
   ]
  },
  {
   "cell_type": "markdown",
   "metadata": {},
   "source": [
    "## Understanding our Data"
   ]
  },
  {
   "cell_type": "code",
   "execution_count": null,
   "metadata": {},
   "outputs": [
    {
     "name": "stdout",
     "output_type": "stream",
     "text": [
      "[[3.00e+00 3.00e+00 2.60e+03 1.85e+03 1.94e+04 1.41e+04]\n",
      " [2.00e+00 2.00e+00 2.55e+03 2.05e+03 2.29e+04 1.84e+04]\n",
      " [2.00e+00 2.00e+00 9.20e+02 8.90e+02 9.30e+03 8.50e+03]\n",
      " [1.00e+00 1.00e+00 3.35e+03 5.70e+03 3.50e+04 5.90e+04]\n",
      " [2.00e+00 2.00e+00 1.88e+04 2.18e+04 2.01e+05 1.86e+05]]\n",
      "[1.46633391 1.53564456 1.4478639  1.53942597 1.60904012]\n"
     ]
    }
   ],
   "source": [
    "print(X_train[:5])  # First 5 rows of the feature matrix\n",
    "print(y_train[:5])  # First 5 target values\n",
    "\n",
    "# [\"AM_DIRECTION\",\"PM_DIRECTION\",\"PM_HOUR\",\"BACK_PEAK_HOUR\",\"AHEAD_PEAK_HOUR\",\"BACK_AADT\",\"AHEAD_AADT\"]\n",
    "\n",
    "# [\n",
    "#   AM_HOUR,           # 12, 12am\n",
    "#   PM_HOUR,           # 13, 1pm\n",
    "#   AM_DIRECTION,      # 3 → e.g., \"W\" if you used {'N':0, 'S':1, 'E':2, 'W':3}\n",
    "#   PM_DIRECTION,      # 3 → same as above\n",
    "#   PM_HOUR,           # 13 → 1 PM\n",
    "#   BACK_PEAK_HOUR,    # 2600 → likely a mistake: should be an hour (0-23)\n",
    "#   AHEAD_PEAK_HOUR,   # 1850 → also possibly invalid as a peak hour\n",
    "#   BACK_AADT,         # 19400 → realistic\n",
    "#   AHEAD_AADT         # 14100 → realistic\n",
    "# ]"
   ]
  },
  {
   "cell_type": "code",
   "execution_count": null,
   "metadata": {},
   "outputs": [
    {
     "data": {
      "text/plain": [
       "1.5196991196612806"
      ]
     },
     "execution_count": 11,
     "metadata": {},
     "output_type": "execute_result"
    }
   ],
   "source": [
    "np.mean(y_test)"
   ]
  },
  {
   "cell_type": "code",
   "execution_count": null,
   "metadata": {},
   "outputs": [
    {
     "data": {
      "image/png": "[encoded data removed]",
      "text/plain": [
       "<Figure size 640x480 with 1 Axes>"
      ]
     },
     "metadata": {},
     "output_type": "display_data"
    }
   ],
   "source": [
    "import matplotlib.pyplot as plt\n",
    "\n",
    "plt.boxplot(y_test, vert=False)\n",
    "plt.title(\"Boxplot of y_test\")\n",
    "plt.xlabel(\"Multiplier\")\n",
    "plt.show()\n"
   ]
  },
  {
   "cell_type": "code",
   "execution_count": null,
   "metadata": {},
   "outputs": [
    {
     "data": {
      "image/png": "[encoded data removed]",
      "text/plain": [
       "<Figure size 640x480 with 1 Axes>"
      ]
     },
     "metadata": {},
     "output_type": "display_data"
    }
   ],
   "source": [
    "import matplotlib.pyplot as plt\n",
    "\n",
    "plt.hist(y_test, bins=30, color='skyblue', edgecolor='black')\n",
    "plt.title(\"Distribution of y_test (Traffic Multipliers)\")\n",
    "plt.xlabel(\"Multiplier\")\n",
    "plt.ylabel(\"Frequency\")\n",
    "plt.grid(True)\n",
    "plt.show()"
   ]
  },
  {
   "cell_type": "code",
   "execution_count": null,
   "metadata": {},
   "outputs": [],
   "source": [
    "def interpret_prediction(model_input, prediction):\n",
    "    direction_map = {0: 'North', 1: 'South', 2: 'East', 3: 'West'}\n",
    "    \n",
    "    am_dir_code, pm_dir_code, back_peak, ahead_peak, back_aadt, ahead_aadt = model_input[0]\n",
    "    \n",
    "    am_direction = direction_map.get(am_dir_code, 'Unknown')\n",
    "    pm_direction = direction_map.get(pm_dir_code, 'Unknown')\n",
    "    \n",
    "    summary = (\n",
    "        f\"At heading {pm_direction}, \"\n",
    "        f\"traffic is expected to be {prediction[0]:.2f}× heavier than normal.\\n\"\n",
    "        f\"This is due to:\\n\"\n",
    "        f\"- Morning conditions: heading {am_direction}\\n\"\n",
    "        f\"- Nearby peak hours: BACK at {back_peak}:00, AHEAD at {ahead_peak}:00\\n\"\n",
    "        f\"- Traffic volumes: BACK AADT = {back_aadt}, AHEAD AADT = {ahead_aadt}\"\n",
    "    )\n",
    "    return summary"
   ]
  },
  {
   "cell_type": "code",
   "execution_count": null,
   "metadata": {},
   "outputs": [
    {
     "name": "stdout",
     "output_type": "stream",
     "text": [
      "At heading Unknown, traffic is expected to be 1.52× heavier than normal.\n",
      "This is due to:\n",
      "- Morning conditions: heading Unknown\n",
      "- Nearby peak hours: BACK at 7:00, AHEAD at 16:00\n",
      "- Traffic volumes: BACK AADT = 19400, AHEAD AADT = 14100\n"
     ]
    }
   ],
   "source": [
    "model_test = [[8, 13, 7, 16, 19400, 14100]]\n",
    "test = model.predict(model_test)\n",
    "print(interpret_prediction(model_test, test))"
   ]
  }
 ],
 "metadata": {
  "kernelspec": {
   "display_name": "venv",
   "language": "python",
   "name": "python3"
  },
  "language_info": {
   "codemirror_mode": {
    "name": "ipython",
    "version": 3
   },
   "file_extension": ".py",
   "mimetype": "text/x-python",
   "name": "python",
   "nbconvert_exporter": "python",
   "pygments_lexer": "ipython3",
   "version": "3.11.9"
  }
 },
 "nbformat": 4,
 "nbformat_minor": 2
}
