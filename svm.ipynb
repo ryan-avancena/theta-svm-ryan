{
 "cells": [
  {
   "cell_type": "code",
   "execution_count": 12,
   "metadata": {},
   "outputs": [],
   "source": [
    "import pandas as pd\n",
    "import numpy as np\n",
    "from sklearn.svm import SVR\n",
    "# import joblib\n",
    "from sklearn.model_selection import train_test_split\n",
    "from sklearn.metrics import mean_squared_error, mean_absolute_error, r2_score"
   ]
  },
  {
   "cell_type": "code",
   "execution_count": null,
   "metadata": {},
   "outputs": [
    {
     "name": "stdout",
     "output_type": "stream",
     "text": [
      "Merged 1084 rows from Caltrans data.\n"
     ]
    }
   ],
   "source": [
    "peak_hours_path = \"2022-peak-hours-ca - 2022 Peak Hour Report.csv\"\n",
    "traffic_volumes_path = \"2022 AADT DATA - 2022 AADT DATA.csv\"\n",
    "\n",
    "peak_hours_df = pd.read_csv(peak_hours_path)\n",
    "traffic_volumes_df = pd.read_csv(traffic_volumes_path)\n",
    "\n",
    "peak_hours_df.rename(columns={\"RTE\": \"ROUTE\", \"CO\": \"COUNTY\"}, inplace=True)\n",
    "\n",
    "\"\"\" merging the dataframes \"\"\"\n",
    "\n",
    "# merged_df = pd.merge(\n",
    "#     traffic_volumes_df,\n",
    "#     peak_hours_df,\n",
    "#     on=[\"ROUTE\", \"COUNTY\", \"PM\"],\n",
    "#     how=\"inner\"\n",
    "# )\n",
    "\n",
    "# print(f\"Merged {len(merged_df)} rows from Caltrans data.\")"
   ]
  },
  {
   "cell_type": "code",
   "execution_count": 30,
   "metadata": {},
   "outputs": [
    {
     "name": "stdout",
     "output_type": "stream",
     "text": [
      "Index(['DISTRICT', 'ROUTE', 'ROUTE_SFX', 'COUNTY', 'PM_PFX_x', 'PM',\n",
      "       'PM_SFX_x', 'LOCATION DESCRIPTION', 'BACK_PEAK_HOUR', 'BACK_PEAK_MADT',\n",
      "       'BACK_AADT', 'AHEAD_PEAK_HOUR', 'AHEAD_PEAK_MADT', 'AHEAD_AADT', 'DI',\n",
      "       'RTE_SFX', 'PM_PFX_y', 'PM_SFX_y', 'CS', 'LEG', 'YR', 'AM_DIR',\n",
      "       'AM_WAY_PHV', 'AM_K_FACTOR_AMT', 'AM_D_FACTOR_AMT', 'AM_KD_FACTOR',\n",
      "       'AM_HOUR', 'AM_DAY', 'AM_MONTH', 'PM_DIR', 'PM_WAY_PHV',\n",
      "       'PM_K_FACTOR_AMT', 'PM_D_FACTOR_AMT', 'PM_KD_FACTOR', 'PM_HOUR',\n",
      "       'PM_DAY', 'PM_MONTH'],\n",
      "      dtype='object')\n"
     ]
    },
    {
     "data": {
      "text/html": [
       "<div>\n",
       "<style scoped>\n",
       "    .dataframe tbody tr th:only-of-type {\n",
       "        vertical-align: middle;\n",
       "    }\n",
       "\n",
       "    .dataframe tbody tr th {\n",
       "        vertical-align: top;\n",
       "    }\n",
       "\n",
       "    .dataframe thead th {\n",
       "        text-align: right;\n",
       "    }\n",
       "</style>\n",
       "<table border=\"1\" class=\"dataframe\">\n",
       "  <thead>\n",
       "    <tr style=\"text-align: right;\">\n",
       "      <th></th>\n",
       "      <th>AM_DAY</th>\n",
       "      <th>PM_DAY</th>\n",
       "      <th>DISTRICT</th>\n",
       "      <th>ROUTE</th>\n",
       "      <th>COUNTY</th>\n",
       "    </tr>\n",
       "  </thead>\n",
       "  <tbody>\n",
       "    <tr>\n",
       "      <th>0</th>\n",
       "      <td>TUE</td>\n",
       "      <td>THU</td>\n",
       "      <td>5</td>\n",
       "      <td>1</td>\n",
       "      <td>SB</td>\n",
       "    </tr>\n",
       "    <tr>\n",
       "      <th>1</th>\n",
       "      <td>THU</td>\n",
       "      <td>THU</td>\n",
       "      <td>5</td>\n",
       "      <td>1</td>\n",
       "      <td>SB</td>\n",
       "    </tr>\n",
       "    <tr>\n",
       "      <th>2</th>\n",
       "      <td>SAT</td>\n",
       "      <td>FRI</td>\n",
       "      <td>5</td>\n",
       "      <td>1</td>\n",
       "      <td>SB</td>\n",
       "    </tr>\n",
       "    <tr>\n",
       "      <th>3</th>\n",
       "      <td>TUE</td>\n",
       "      <td>THU</td>\n",
       "      <td>5</td>\n",
       "      <td>1</td>\n",
       "      <td>SB</td>\n",
       "    </tr>\n",
       "    <tr>\n",
       "      <th>4</th>\n",
       "      <td>MON</td>\n",
       "      <td>WED</td>\n",
       "      <td>5</td>\n",
       "      <td>1</td>\n",
       "      <td>SB</td>\n",
       "    </tr>\n",
       "    <tr>\n",
       "      <th>...</th>\n",
       "      <td>...</td>\n",
       "      <td>...</td>\n",
       "      <td>...</td>\n",
       "      <td>...</td>\n",
       "      <td>...</td>\n",
       "    </tr>\n",
       "    <tr>\n",
       "      <th>1079</th>\n",
       "      <td>TUE</td>\n",
       "      <td>TUE</td>\n",
       "      <td>11</td>\n",
       "      <td>805</td>\n",
       "      <td>SD</td>\n",
       "    </tr>\n",
       "    <tr>\n",
       "      <th>1080</th>\n",
       "      <td>TUE</td>\n",
       "      <td>THU</td>\n",
       "      <td>11</td>\n",
       "      <td>805</td>\n",
       "      <td>SD</td>\n",
       "    </tr>\n",
       "    <tr>\n",
       "      <th>1081</th>\n",
       "      <td>SAT</td>\n",
       "      <td>SAT</td>\n",
       "      <td>4</td>\n",
       "      <td>880</td>\n",
       "      <td>ALA</td>\n",
       "    </tr>\n",
       "    <tr>\n",
       "      <th>1082</th>\n",
       "      <td>WED</td>\n",
       "      <td>FRI</td>\n",
       "      <td>11</td>\n",
       "      <td>905</td>\n",
       "      <td>SD</td>\n",
       "    </tr>\n",
       "    <tr>\n",
       "      <th>1083</th>\n",
       "      <td>THU</td>\n",
       "      <td>MON</td>\n",
       "      <td>11</td>\n",
       "      <td>905</td>\n",
       "      <td>SD</td>\n",
       "    </tr>\n",
       "  </tbody>\n",
       "</table>\n",
       "<p>1084 rows × 5 columns</p>\n",
       "</div>"
      ],
      "text/plain": [
       "     AM_DAY PM_DAY  DISTRICT  ROUTE COUNTY\n",
       "0       TUE    THU         5      1     SB\n",
       "1       THU    THU         5      1     SB\n",
       "2       SAT    FRI         5      1     SB\n",
       "3       TUE    THU         5      1     SB\n",
       "4       MON    WED         5      1     SB\n",
       "...     ...    ...       ...    ...    ...\n",
       "1079    TUE    TUE        11    805     SD\n",
       "1080    TUE    THU        11    805     SD\n",
       "1081    SAT    SAT         4    880    ALA\n",
       "1082    WED    FRI        11    905     SD\n",
       "1083    THU    MON        11    905     SD\n",
       "\n",
       "[1084 rows x 5 columns]"
      ]
     },
     "execution_count": 30,
     "metadata": {},
     "output_type": "execute_result"
    }
   ],
   "source": [
    "print(merged_df.columns)\n",
    "\n",
    "merged_df[[\"AM_DAY\",\"PM_DAY\",\"DISTRICT\",\"ROUTE\",\"COUNTY\"]]"
   ]
  },
  {
   "cell_type": "markdown",
   "metadata": {},
   "source": [
    "important columns are \n",
    "- ROUTE\n",
    "- COUNTY\n",
    "- DAY : day of the week\n",
    "- PHV : peak hour volume\n",
    "- AM_DIR : direction of travel for peak volume in morning\n",
    "- PM_DIR : direction of travel for peak volume in at night\n",
    "- AADT : annual average daily traffic in vehicles per day\n",
    "\n",
    "- \n",
    "- PM_HOUR : post-mile hour\n"
   ]
  },
  {
   "cell_type": "code",
   "execution_count": 14,
   "metadata": {},
   "outputs": [
    {
     "data": {
      "text/html": [
       "<div>\n",
       "<style scoped>\n",
       "    .dataframe tbody tr th:only-of-type {\n",
       "        vertical-align: middle;\n",
       "    }\n",
       "\n",
       "    .dataframe tbody tr th {\n",
       "        vertical-align: top;\n",
       "    }\n",
       "\n",
       "    .dataframe thead th {\n",
       "        text-align: right;\n",
       "    }\n",
       "</style>\n",
       "<table border=\"1\" class=\"dataframe\">\n",
       "  <thead>\n",
       "    <tr style=\"text-align: right;\">\n",
       "      <th></th>\n",
       "      <th>BACK_PEAK_HOUR</th>\n",
       "      <th>AHEAD_PEAK_HOUR</th>\n",
       "      <th>PM_HOUR</th>\n",
       "      <th>AM_HOUR</th>\n",
       "    </tr>\n",
       "  </thead>\n",
       "  <tbody>\n",
       "    <tr>\n",
       "      <th>0</th>\n",
       "      <td>NaN</td>\n",
       "      <td>860.0</td>\n",
       "      <td>16</td>\n",
       "      <td>6</td>\n",
       "    </tr>\n",
       "    <tr>\n",
       "      <th>1</th>\n",
       "      <td>900.0</td>\n",
       "      <td>1400.0</td>\n",
       "      <td>17</td>\n",
       "      <td>6</td>\n",
       "    </tr>\n",
       "    <tr>\n",
       "      <th>2</th>\n",
       "      <td>1700.0</td>\n",
       "      <td>1000.0</td>\n",
       "      <td>15</td>\n",
       "      <td>12</td>\n",
       "    </tr>\n",
       "    <tr>\n",
       "      <th>3</th>\n",
       "      <td>2700.0</td>\n",
       "      <td>2700.0</td>\n",
       "      <td>17</td>\n",
       "      <td>7</td>\n",
       "    </tr>\n",
       "    <tr>\n",
       "      <th>4</th>\n",
       "      <td>2700.0</td>\n",
       "      <td>2000.0</td>\n",
       "      <td>17</td>\n",
       "      <td>7</td>\n",
       "    </tr>\n",
       "    <tr>\n",
       "      <th>...</th>\n",
       "      <td>...</td>\n",
       "      <td>...</td>\n",
       "      <td>...</td>\n",
       "      <td>...</td>\n",
       "    </tr>\n",
       "    <tr>\n",
       "      <th>1079</th>\n",
       "      <td>14500.0</td>\n",
       "      <td>14200.0</td>\n",
       "      <td>14</td>\n",
       "      <td>6</td>\n",
       "    </tr>\n",
       "    <tr>\n",
       "      <th>1080</th>\n",
       "      <td>9600.0</td>\n",
       "      <td>NaN</td>\n",
       "      <td>16</td>\n",
       "      <td>8</td>\n",
       "    </tr>\n",
       "    <tr>\n",
       "      <th>1081</th>\n",
       "      <td>13500.0</td>\n",
       "      <td>14600.0</td>\n",
       "      <td>13</td>\n",
       "      <td>10</td>\n",
       "    </tr>\n",
       "    <tr>\n",
       "      <th>1082</th>\n",
       "      <td>870.0</td>\n",
       "      <td>2950.0</td>\n",
       "      <td>15</td>\n",
       "      <td>7</td>\n",
       "    </tr>\n",
       "    <tr>\n",
       "      <th>1083</th>\n",
       "      <td>8200.0</td>\n",
       "      <td>5300.0</td>\n",
       "      <td>13</td>\n",
       "      <td>7</td>\n",
       "    </tr>\n",
       "  </tbody>\n",
       "</table>\n",
       "<p>1084 rows × 4 columns</p>\n",
       "</div>"
      ],
      "text/plain": [
       "      BACK_PEAK_HOUR  AHEAD_PEAK_HOUR  PM_HOUR  AM_HOUR\n",
       "0                NaN            860.0       16        6\n",
       "1              900.0           1400.0       17        6\n",
       "2             1700.0           1000.0       15       12\n",
       "3             2700.0           2700.0       17        7\n",
       "4             2700.0           2000.0       17        7\n",
       "...              ...              ...      ...      ...\n",
       "1079         14500.0          14200.0       14        6\n",
       "1080          9600.0              NaN       16        8\n",
       "1081         13500.0          14600.0       13       10\n",
       "1082           870.0           2950.0       15        7\n",
       "1083          8200.0           5300.0       13        7\n",
       "\n",
       "[1084 rows x 4 columns]"
      ]
     },
     "execution_count": 14,
     "metadata": {},
     "output_type": "execute_result"
    }
   ],
   "source": [
    "merged_df[[\"BACK_PEAK_HOUR\",\"AHEAD_PEAK_HOUR\", \"PM_HOUR\",\"AM_HOUR\"]]  # usually the opposite or also the same"
   ]
  },
  {
   "cell_type": "code",
   "execution_count": 15,
   "metadata": {},
   "outputs": [],
   "source": [
    "# merged_df.head()\n",
    "# merged_df.columns"
   ]
  },
  {
   "cell_type": "code",
   "execution_count": 16,
   "metadata": {},
   "outputs": [],
   "source": [
    "direction_map = {'N': 0, 'S': 1, 'E': 2, 'W': 3}\n",
    "\n",
    "def encode_direction(direction):\n",
    "    return direction_map.get(direction, -1)  # Use -1 for unknowns or NaNs\n"
   ]
  },
  {
   "cell_type": "code",
   "execution_count": 17,
   "metadata": {},
   "outputs": [
    {
     "name": "stdout",
     "output_type": "stream",
     "text": [
      "Generated 21768 simulation examples.\n"
     ]
    }
   ],
   "source": [
    "examples = []\n",
    "for _, row in merged_df.iterrows():\n",
    "    \n",
    "    am_direction = row.get(\"AM_DIR\")\n",
    "    pm_direction = row.get(\"PM_DIR\")\n",
    "    back_aadt = row.get(\"BACK_AADT\", np.nan)\n",
    "    ahead_aadt = row.get(\"AHEAD_AADT\", np.nan)\n",
    "    back_peak_hour = row.get(\"BACK_PEAK_HOUR\", np.nan)\n",
    "    ahead_peak_hour = row.get(\"AHEAD_PEAK_HOUR\", np.nan)\n",
    "    am_hour = row.get(\"AM_HOUR\", np.nan)\n",
    "    pm_hour = row.get(\"PM_HOUR\", np.nan)\n",
    "    \n",
    "    # Skip rows with missing critical data\n",
    "    if np.isnan(back_aadt) or np.isnan(ahead_aadt) or np.isnan(back_peak_hour) or np.isnan(ahead_peak_hour):\n",
    "        continue\n",
    "\n",
    "    for hour in range(24):\n",
    "        examples.append({\n",
    "            \"AM_HOUR\": int(am_hour),\n",
    "            \"PM_HOUR\": int(pm_hour),\n",
    "            \"AM_DIRECTION\": encode_direction(am_direction),\n",
    "            \"PM_DIRECTION\": encode_direction(pm_direction),\n",
    "            \"BACK_PEAK_HOUR\": int(back_peak_hour) if not np.isnan(back_peak_hour) else 17,\n",
    "            \"AHEAD_PEAK_HOUR\": int(ahead_peak_hour) if not np.isnan(ahead_peak_hour) else 17,\n",
    "            \"BACK_AADT\": back_aadt,\n",
    "            \"AHEAD_AADT\": ahead_aadt\n",
    "        })\n",
    "\n",
    "print(f\"Generated {len(examples)} simulation examples.\")\n",
    "\n",
    "def calculate_multiplier(back_peak_hour, ahead_peak_hour, back_aadt, ahead_aadt, am_dir=None, pm_dir=None):\n",
    "    base_multiplier = 1.0\n",
    "\n",
    "    # Peak Hour Boost\n",
    "    if abs(pm_hour - back_peak_hour) <= 1 or abs(pm_hour - ahead_peak_hour) <= 1:\n",
    "        base_multiplier += 0.6\n",
    "\n",
    "    # --- Morning congestion boost\n",
    "    if 7 <= am_hour <= 9:\n",
    "        base_multiplier += 0.3\n",
    "\n",
    "    # Nighttime reduction\n",
    "    if (pm_hour >= 23 or pm_hour <= 5):\n",
    "        base_multiplier -= 0.3\n",
    "\n",
    "    # Midday moderate boost\n",
    "    if 11 <= pm_hour <= 13:\n",
    "        base_multiplier += 0.2\n",
    "\n",
    "    # AADT scaling\n",
    "    avg_aadt = (back_aadt + ahead_aadt) / 2\n",
    "    base_multiplier += avg_aadt / 400000\n",
    "\n",
    "    # Directional preference (example: boost if AM and PM directions match)\n",
    "    if am_dir == pm_dir:\n",
    "        base_multiplier += 0.1\n",
    "\n",
    "    # Add small noise\n",
    "    return max(base_multiplier + np.random.normal(0, 0.05), 1.0)\n",
    "\n",
    "\n",
    "X = []\n",
    "y = []\n",
    "\n",
    "for example in examples:\n",
    "    features = [\n",
    "        # example[\"AM_HOUR\"],\n",
    "        # example[\"PM_HOUR\"],\n",
    "        example[\"AM_DIRECTION\"],\n",
    "        example[\"PM_DIRECTION\"],\n",
    "        example[\"BACK_PEAK_HOUR\"],\n",
    "        example[\"AHEAD_PEAK_HOUR\"],\n",
    "        example[\"BACK_AADT\"],\n",
    "        example[\"AHEAD_AADT\"]\n",
    "    ]\n",
    "    multiplier = calculate_multiplier(*features)\n",
    "    X.append(features)\n",
    "    y.append(multiplier)\n",
    "\n",
    "X = np.array(X)\n",
    "y = np.array(y)"
   ]
  },
  {
   "cell_type": "code",
   "execution_count": 18,
   "metadata": {},
   "outputs": [],
   "source": [
    "X_train, X_test, y_train, y_test = train_test_split(X, y, test_size=0.2, random_state=42)\n",
    "model = SVR(kernel=\"rbf\", C=100, gamma=0.1, epsilon=0.1)\n",
    "# model = SVR(kernel=\"linear\", C=100, epsilon=0.1)\n",
    "\n",
    "model.fit(X, y)\n",
    "\n",
    "y_pred = model.predict(X_test)"
   ]
  },
  {
   "cell_type": "code",
   "execution_count": 19,
   "metadata": {},
   "outputs": [
    {
     "name": "stdout",
     "output_type": "stream",
     "text": [
      "R² Score: 0.2349\n",
      "MAE: 0.0409\n",
      "MSE: 0.0026\n",
      "RMSE: 0.0506\n"
     ]
    }
   ],
   "source": [
    "r2 = r2_score(y_test, y_pred)\n",
    "mae = mean_absolute_error(y_test, y_pred)\n",
    "mse = mean_squared_error(y_test, y_pred)\n",
    "rmse = np.sqrt(mse)\n",
    "\n",
    "# Print results\n",
    "print(f\"R² Score: {r2:.4f}\")\n",
    "print(f\"MAE: {mae:.4f}\")\n",
    "print(f\"MSE: {mse:.4f}\")\n",
    "print(f\"RMSE: {rmse:.4f}\")"
   ]
  },
  {
   "cell_type": "markdown",
   "metadata": {},
   "source": [
    "## Understanding our Data"
   ]
  },
  {
   "cell_type": "code",
   "execution_count": 20,
   "metadata": {},
   "outputs": [
    {
     "name": "stdout",
     "output_type": "stream",
     "text": [
      "[[3.00e+00 3.00e+00 2.60e+03 1.85e+03 1.94e+04 1.41e+04]\n",
      " [2.00e+00 2.00e+00 2.55e+03 2.05e+03 2.29e+04 1.84e+04]\n",
      " [2.00e+00 2.00e+00 9.20e+02 8.90e+02 9.30e+03 8.50e+03]\n",
      " [1.00e+00 1.00e+00 3.35e+03 5.70e+03 3.50e+04 5.90e+04]\n",
      " [2.00e+00 2.00e+00 1.88e+04 2.18e+04 2.01e+05 1.86e+05]]\n",
      "[1.47627326 1.56715985 1.52206514 1.49342089 1.59590451]\n"
     ]
    }
   ],
   "source": [
    "print(X_train[:5])  # First 5 rows of the feature matrix\n",
    "print(y_train[:5])  # First 5 target values\n",
    "\n",
    "# [\"AM_DIRECTION\",\"PM_DIRECTION\",\"PM_HOUR\",\"BACK_PEAK_HOUR\",\"AHEAD_PEAK_HOUR\",\"BACK_AADT\",\"AHEAD_AADT\"]\n",
    "\n",
    "# [\n",
    "#   AM_HOUR,           # 12, 12am\n",
    "#   PM_HOUR,           # 13, 1pm\n",
    "#   AM_DIRECTION,      # 3 → e.g., \"W\" if you used {'N':0, 'S':1, 'E':2, 'W':3}\n",
    "#   PM_DIRECTION,      # 3 → same as above\n",
    "#   PM_HOUR,           # 13 → 1 PM\n",
    "#   BACK_PEAK_HOUR,    # 2600 → likely a mistake: should be an hour (0-23)\n",
    "#   AHEAD_PEAK_HOUR,   # 1850 → also possibly invalid as a peak hour\n",
    "#   BACK_AADT,         # 19400 → realistic\n",
    "#   AHEAD_AADT         # 14100 → realistic\n",
    "# ]"
   ]
  },
  {
   "cell_type": "code",
   "execution_count": 21,
   "metadata": {},
   "outputs": [
    {
     "data": {
      "text/plain": [
       "np.float64(1.5185591870694581)"
      ]
     },
     "execution_count": 21,
     "metadata": {},
     "output_type": "execute_result"
    }
   ],
   "source": [
    "np.mean(y_test)"
   ]
  },
  {
   "cell_type": "code",
   "execution_count": 22,
   "metadata": {},
   "outputs": [
    {
     "data": {
      "image/png": "[encoded data removed]",
      "text/plain": [
       "<Figure size 640x480 with 1 Axes>"
      ]
     },
     "metadata": {},
     "output_type": "display_data"
    }
   ],
   "source": [
    "import matplotlib.pyplot as plt\n",
    "\n",
    "plt.boxplot(y_test, vert=False)\n",
    "plt.title(\"Boxplot of y_test\")\n",
    "plt.xlabel(\"Multiplier\")\n",
    "plt.show()\n"
   ]
  },
  {
   "cell_type": "code",
   "execution_count": 23,
   "metadata": {},
   "outputs": [
    {
     "data": {
      "image/png": "[encoded data removed]",
      "text/plain": [
       "<Figure size 640x480 with 1 Axes>"
      ]
     },
     "metadata": {},
     "output_type": "display_data"
    }
   ],
   "source": [
    "import matplotlib.pyplot as plt\n",
    "\n",
    "plt.hist(y_test, bins=30, color='skyblue', edgecolor='black')\n",
    "plt.title(\"Distribution of y_test (Traffic Multipliers)\")\n",
    "plt.xlabel(\"Multiplier\")\n",
    "plt.ylabel(\"Frequency\")\n",
    "plt.grid(True)\n",
    "plt.show()"
   ]
  },
  {
   "cell_type": "code",
   "execution_count": 24,
   "metadata": {},
   "outputs": [],
   "source": [
    "def interpret_prediction(model_input, prediction):\n",
    "    direction_map = {0: 'North', 1: 'South', 2: 'East', 3: 'West'}\n",
    "    \n",
    "    am_dir_code, pm_dir_code, back_peak, ahead_peak, back_aadt, ahead_aadt = model_input[0]\n",
    "    \n",
    "    am_direction = direction_map.get(am_dir_code, 'Unknown')\n",
    "    pm_direction = direction_map.get(pm_dir_code, 'Unknown')\n",
    "    \n",
    "    summary = (\n",
    "        f\"At heading {pm_direction}, \"\n",
    "        f\"traffic is expected to be {prediction[0]:.2f}× heavier than normal.\\n\"\n",
    "        f\"This is due to:\\n\"\n",
    "        f\"- Morning conditions: heading {am_direction}\\n\"\n",
    "        f\"- Nearby peak hours: BACK at {back_peak}:00, AHEAD at {ahead_peak}:00\\n\"\n",
    "        f\"- Traffic volumes: BACK AADT = {back_aadt}, AHEAD AADT = {ahead_aadt}\"\n",
    "    )\n",
    "    return summary"
   ]
  },
  {
   "cell_type": "code",
   "execution_count": 25,
   "metadata": {},
   "outputs": [
    {
     "name": "stdout",
     "output_type": "stream",
     "text": [
      "At heading Unknown, traffic is expected to be 1.52× heavier than normal.\n",
      "This is due to:\n",
      "- Morning conditions: heading Unknown\n",
      "- Nearby peak hours: BACK at 7:00, AHEAD at 16:00\n",
      "- Traffic volumes: BACK AADT = 19400, AHEAD AADT = 14100\n"
     ]
    }
   ],
   "source": [
    "model_test = [[8, 13, 7, 16, 19400, 14100]]\n",
    "test = model.predict(model_test)\n",
    "print(interpret_prediction(model_test, test))"
   ]
  }
 ],
 "metadata": {
  "kernelspec": {
   "display_name": "venv",
   "language": "python",
   "name": "python3"
  },
  "language_info": {
   "codemirror_mode": {
    "name": "ipython",
    "version": 3
   },
   "file_extension": ".py",
   "mimetype": "text/x-python",
   "name": "python",
   "nbconvert_exporter": "python",
   "pygments_lexer": "ipython3",
   "version": "3.11.9"
  }
 },
 "nbformat": 4,
 "nbformat_minor": 2
}
